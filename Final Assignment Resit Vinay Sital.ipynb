{
 "cells": [
  {
   "cell_type": "markdown",
   "metadata": {},
   "source": [
    "# Final Python Assignment\n",
    "\n",
    "\n",
    "Use the following table to provide us with\n",
    "\n",
    "|name | exam number|\n",
    "|----|----|\n",
    "|vinay sital| 1277081|\n"
   ]
  },
  {
   "cell_type": "markdown",
   "metadata": {},
   "source": [
    "# Read this carefully"
   ]
  },
  {
   "cell_type": "markdown",
   "metadata": {},
   "source": [
    "This is the final assignment for python. You also need to make the R part of this final assignment.\n",
    "With this python part of the final assignment, you can earn 4 points.\n",
    "This assignment needs to be uploaded July 7th 2017 (23:59 at the latest).\n",
    "After you have finished this exam, do the following:\n",
    "\n",
    "-   upload your python and R files to github\n",
    "-   create two links in your README file:\n",
    "    -   one link to \"final python assignment\"\n",
    "    -   one link to \"final R assignment\"\n",
    "-   fill in the google form (see link on Blackboard) that you have uploaded your files\n",
    "-   use the same student number you gave us before, otherwise we cannot retrieve your pass/fail grades (if we cannot find these, we assume you failed all of them)"
   ]
  },
  {
   "cell_type": "markdown",
   "metadata": {},
   "source": [
    "# Doing math with python"
   ]
  },
  {
   "cell_type": "markdown",
   "metadata": {},
   "source": [
    "As in the tutorial of [week 4](http://janboone.github.io/programming-for-economists/python.html#week4), we will use python to work with functions. Although in the lectures and assignments we worked with plotly to make graphs, here we will use [matplotlib]([https://matplotlib.org/](https://matplotlib.org/)). Hence, you need to google to see how plots are made using this library. An important aspect of using open source software is that you can figure out yourself how to use things."
   ]
  },
  {
   "cell_type": "markdown",
   "metadata": {},
   "source": [
    "# Import libraries"
   ]
  },
  {
   "cell_type": "markdown",
   "metadata": {},
   "source": [
    "First, we need to import some libraries:"
   ]
  },
  {
   "cell_type": "code",
   "execution_count": 114,
   "metadata": {
    "collapsed": true
   },
   "outputs": [],
   "source": [
    "from scipy import optimize\n",
    "from numpy import arange\n",
    "import matplotlib.pyplot as plt\n",
    "from scipy.optimize import fsolve\n",
    "%matplotlib inline"
   ]
  },
  {
   "cell_type": "markdown",
   "metadata": {},
   "source": [
    "We are going to analyze the function $x^2 - 8x +15$. Check the lectures and assignments to see how you define a function in python.\n",
    "\n",
    "-   **1. [0.5 point]:** Define the python function $objective$ as $x^2 - 8x +15$."
   ]
  },
  {
   "cell_type": "code",
   "execution_count": 115,
   "metadata": {
    "collapsed": false
   },
   "outputs": [],
   "source": [
    "def objective(x):\n",
    "    return (x**2)-(8*x)+15"
   ]
  },
  {
   "cell_type": "markdown",
   "metadata": {},
   "source": [
    "We want to know what the zeros/roots are of this function; that is, the points $x$ where the function equals 0 (or, crosses the $x$-axis).\n",
    "\n",
    "-   **2. [1 point]:** Use $fsolve$ from $optimize$ to find **both** roots of this functions."
   ]
  },
  {
   "cell_type": "code",
   "execution_count": 116,
   "metadata": {
    "collapsed": false
   },
   "outputs": [
    {
     "name": "stdout",
     "output_type": "stream",
     "text": [
      "[ 3.]\n",
      "[ 5.]\n"
     ]
    }
   ],
   "source": [
    "\n",
    "root1 = fsolve(objective,+1)\n",
    "root2 = fsolve(objective,+4)\n",
    "print(root1)\n",
    "print(root2)"
   ]
  },
  {
   "cell_type": "markdown",
   "metadata": {},
   "source": [
    "-   **3. [0.5 point]:** Find the points of intersection between the function $objective$ above and the function $f(x)=1.5 x$."
   ]
  },
  {
   "cell_type": "code",
   "execution_count": 78,
   "metadata": {
    "collapsed": true
   },
   "outputs": [],
   "source": [
    "def objective2(x):\n",
    "    return 1.5*x"
   ]
  },
  {
   "cell_type": "code",
   "execution_count": 132,
   "metadata": {
    "collapsed": false
   },
   "outputs": [
    {
     "ename": "NameError",
     "evalue": "name 'numpy' is not defined",
     "output_type": "error",
     "traceback": [
      "\u001b[0;31m---------------------------------------------------------------------------\u001b[0m",
      "\u001b[0;31mNameError\u001b[0m                                 Traceback (most recent call last)",
      "\u001b[0;32m<ipython-input-132-5236900a9175>\u001b[0m in \u001b[0;36m<module>\u001b[0;34m()\u001b[0m\n\u001b[1;32m      2\u001b[0m  \u001b[1;32mreturn\u001b[0m \u001b[0mfsolve\u001b[0m\u001b[1;33m(\u001b[0m\u001b[1;32mlambda\u001b[0m \u001b[0mx\u001b[0m \u001b[1;33m:\u001b[0m \u001b[0mobjective\u001b[0m\u001b[1;33m(\u001b[0m\u001b[0mx\u001b[0m\u001b[1;33m)\u001b[0m \u001b[1;33m-\u001b[0m \u001b[0mobjective2\u001b[0m\u001b[1;33m(\u001b[0m\u001b[0mx\u001b[0m\u001b[1;33m)\u001b[0m\u001b[1;33m,\u001b[0m\u001b[0mx0\u001b[0m\u001b[1;33m)\u001b[0m\u001b[1;33m\u001b[0m\u001b[0m\n\u001b[1;32m      3\u001b[0m \u001b[1;33m\u001b[0m\u001b[0m\n\u001b[0;32m----> 4\u001b[0;31m \u001b[0mresult\u001b[0m \u001b[1;33m=\u001b[0m \u001b[0mfindIntersection\u001b[0m\u001b[1;33m(\u001b[0m\u001b[0mnumpy\u001b[0m\u001b[1;33m.\u001b[0m\u001b[0msin\u001b[0m\u001b[1;33m,\u001b[0m\u001b[0mnumpy\u001b[0m\u001b[1;33m.\u001b[0m\u001b[0mcos\u001b[0m\u001b[1;33m,\u001b[0m\u001b[1;36m0.0\u001b[0m\u001b[1;33m)\u001b[0m\u001b[1;33m\u001b[0m\u001b[0m\n\u001b[0m\u001b[1;32m      5\u001b[0m \u001b[0mx\u001b[0m \u001b[1;33m=\u001b[0m \u001b[0mnumpy\u001b[0m\u001b[1;33m.\u001b[0m\u001b[0mlinspace\u001b[0m\u001b[1;33m(\u001b[0m\u001b[1;33m-\u001b[0m\u001b[1;36m2\u001b[0m\u001b[1;33m,\u001b[0m\u001b[1;36m2\u001b[0m\u001b[1;33m,\u001b[0m\u001b[1;36m50\u001b[0m\u001b[1;33m)\u001b[0m\u001b[1;33m\u001b[0m\u001b[0m\n\u001b[1;32m      6\u001b[0m \u001b[0mpylab\u001b[0m\u001b[1;33m.\u001b[0m\u001b[0mplot\u001b[0m\u001b[1;33m(\u001b[0m\u001b[0mx\u001b[0m\u001b[1;33m,\u001b[0m\u001b[0mnumpy\u001b[0m\u001b[1;33m.\u001b[0m\u001b[0msin\u001b[0m\u001b[1;33m(\u001b[0m\u001b[0mx\u001b[0m\u001b[1;33m)\u001b[0m\u001b[1;33m,\u001b[0m\u001b[0mx\u001b[0m\u001b[1;33m,\u001b[0m\u001b[0mnumpy\u001b[0m\u001b[1;33m.\u001b[0m\u001b[0mcos\u001b[0m\u001b[1;33m(\u001b[0m\u001b[0mx\u001b[0m\u001b[1;33m)\u001b[0m\u001b[1;33m,\u001b[0m\u001b[0mresult\u001b[0m\u001b[1;33m,\u001b[0m\u001b[0mnumpy\u001b[0m\u001b[1;33m.\u001b[0m\u001b[0msin\u001b[0m\u001b[1;33m(\u001b[0m\u001b[0mresult\u001b[0m\u001b[1;33m)\u001b[0m\u001b[1;33m,\u001b[0m\u001b[1;34m'ro'\u001b[0m\u001b[1;33m)\u001b[0m\u001b[1;33m\u001b[0m\u001b[0m\n",
      "\u001b[0;31mNameError\u001b[0m: name 'numpy' is not defined"
     ]
    }
   ],
   "source": [
    "def findIntersection(fun1,fun2,x0):\n",
    " return fsolve(lambda x : objective(x) - objective2(x),x0)\n",
    "\n",
    "result = findIntersection(numpy.sin,numpy.cos,0.0)\n",
    "x = numpy.linspace(-2,2,50)\n",
    "pylab.plot(x,numpy.sin(x),x,numpy.cos(x),result,numpy.sin(result),'ro')\n",
    "pylab.show()\n",
    "\n",
    "print(result)"
   ]
  },
  {
   "cell_type": "markdown",
   "metadata": {},
   "source": [
    "We want to plot the function and hence need to define a range over which to plot. Define the range in such a way that the graph below looks \"nice\".\n",
    "\n",
    "-   **4. [0.5 point]:** Generate a list (or \"vector\", if you wish) of $x$ values between 0 and 8 (including 8.0). Call this `range_x`."
   ]
  },
  {
   "cell_type": "code",
   "execution_count": 136,
   "metadata": {
    "collapsed": false
   },
   "outputs": [
    {
     "data": {
      "image/png": "iVBORw0KGgoAAAANSUhEUgAAAYQAAAEWCAYAAABmE+CbAAAABHNCSVQICAgIfAhkiAAAAAlwSFlz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\n2mJHCUUzHEQAAAAASUVORK5CYII=\n",
      "text/plain": [
       "<matplotlib.figure.Figure at 0x1eff665ce48>"
      ]
     },
     "metadata": {},
     "output_type": "display_data"
    }
   ],
   "source": [
    "range_x = [0,1,2,3,4,5,6,7,8]\n",
    "range_y = [15,8,3,0,-1,0,3,8,15]\n",
    "plt.plot(range_x, range_y,)\n",
    "plt.xlabel('X')\n",
    "plt.ylabel('Y')\n",
    "plt.yticks([-4,0,4,8,12,16])\n",
    "plt.title('The Objective')\n",
    "plt.show()"
   ]
  },
  {
   "cell_type": "markdown",
   "metadata": {},
   "source": [
    "# Using $matplotlib$"
   ]
  },
  {
   "cell_type": "markdown",
   "metadata": {},
   "source": [
    "-   **5. [0.5 point]:** Above we import $matplotlib.pyplot$. Explain what the $plt$-part of this import statement does."
   ]
  },
  {
   "cell_type": "markdown",
   "metadata": {
    "collapsed": true
   },
   "source": [
    "With importing the matplotlib.pyplot you import the package which you can plot graphs with. \n",
    "You can assign abbreviations to the packages when youre using them, so plt is the assigned abbreviation to the package." 
     "So in conclusion you can use it the abbreviation to activate the function"
   ]
  },
  {
   "cell_type": "markdown",
   "metadata": {},
   "source": [
    "-   **6. [1 point]:** Use $matplotlib$ to plot both the function $objective$ and the function $1.5 x$. Make sure that the horizontal axis is labeled $x$ and the vertical axis $y$."
   ]
  },
  {
   "cell_type": "code",
   "execution_count": 135,
   "metadata": {
    "collapsed": false
   },
   "outputs": [
    {
     "data": {
      "image/png": "iVBORw0KGgoAAAANSUhEUgAAAYQAAAEWCAYAAABmE+CbAAAABHNCSVQICAgIfAhkiAAAAAlwSFlz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\n",
      "text/plain": [
       "<matplotlib.figure.Figure at 0x1eff6a0b240>"
      ]
     },
     "metadata": {},
     "output_type": "display_data"
    }
   ],
   "source": [
    "range_x = [0,1,2,3,4,5,6,7,8]\n",
    "range_y = [15,8,3,0,-1,0,3,8,15]\n",
    "range_z = [0,1.5,3,4.5,6,7.5,9,10.5,12]\n",
    "plt.plot(range_x, range_y)\n",
    "plt.plot(range_x, range_z\n",
    "        )\n",
    "plt.xlabel('X')\n",
    "plt.ylabel('Y')\n",
    "plt.yticks([-4,0,4,8,12,16])\n",
    "plt.title('Both function in one graph')\n",
    "plt.show()"
   ]
  }
 ],
 "metadata": {
  "kernelspec": {
   "display_name": "Python 3",
   "language": "python",
   "name": "python3"
  },
  "language_info": {
   "codemirror_mode": {
    "name": "ipython",
    "version": 3
   },
   "file_extension": ".py",
   "mimetype": "text/x-python",
   "name": "python",
   "nbconvert_exporter": "python",
   "pygments_lexer": "ipython3",
   "version": "3.6.0"
  },
  "org": null
 },
 "nbformat": 4,
 "nbformat_minor": 0
}
